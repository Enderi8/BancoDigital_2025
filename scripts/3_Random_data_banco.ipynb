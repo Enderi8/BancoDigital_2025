{
 "cells": [
  {
   "cell_type": "markdown",
   "id": "eee21bd2",
   "metadata": {},
   "source": [
    "# Generar (manual o programáticamente) 1000 registros de cleintes con distintos tipos de cuenta y sucursales, incluyendo tipo de cuenta NA (Campo nulo o vacío) guardar en archivo.csv"
   ]
  },
  {
   "cell_type": "code",
   "execution_count": 4,
   "id": "8f039db8",
   "metadata": {},
   "outputs": [
    {
     "name": "stdout",
     "output_type": "stream",
     "text": [
      "Archivo 'c:\\Users\\John_\\documents\\BancoDigital_2025\\scripts\\..\\data\\bancos.csv' creado exitosamente.\n",
      " Total de registros: 1000\n"
     ]
    }
   ],
   "source": [
    "from pathlib import Path\n",
    "import csv\n",
    "import random\n",
    "from datetime import datetime, timedelta\n",
    "\n",
    "# 1⃣ Crear carpeta \"data\" si no existe \n",
    "data_path = Path.cwd() / \"../data\" \n",
    "data_path.mkdir(parents=True, exist_ok=True)\n",
    "\n",
    "# 2⃣ Definir archivo CSV \n",
    "cvs_file = data_path / \"bancos.csv\"\n",
    "\n",
    "# 3⃣ Listas base de datos simulados \n",
    "tipos_cuenta = [\"CTA AHORROS SOLES\", \"CTA AHORROS DOLARES\", \"CTA CORRIENTE\", \"NA\"] \n",
    "sucursales = [\"San Isidro\", \"Miraflores\", \"Surco\", \"La Molina\", \n",
    "\"Lince\", \"Callao\", \"Cajamarca\"]\n",
    "\n",
    "#4⃣ Generar datos aleatorios \n",
    "def generar_fecha(): \n",
    "    \"\"\"Genera una fecha aleatoria entre 2010 y 2025\"\"\" \n",
    "    inicio = datetime(2010, 1, 1) \n",
    "    fin = datetime(2025, 1, 1) \n",
    "    delta = fin - inicio \n",
    "    fecha_random = inicio + timedelta(days=random.randint(0, \n",
    "delta.days)) \n",
    "    return fecha_random.strftime(\"%d/%m/%Y\")\n",
    "\n",
    "# 5⃣ Crear 30 registros simulados \n",
    "registros = [] \n",
    "for i in range(1, 1001): \n",
    "    num_cta = f\"191-{10000 + i}-{random.randint(10,99)}\" \n",
    "    cli_codigo = f\"C{str(i).zfill(4)}\" \n",
    "    tipo_cuenta = random.choice(tipos_cuenta) \n",
    "    sucursal = random.choice(sucursales) \n",
    "    fecha_apertura = generar_fecha() \n",
    "    saldo = round(random.uniform(500, 15000), 2) \n",
    "    registros.append([num_cta, cli_codigo, tipo_cuenta, sucursal, \n",
    "fecha_apertura, saldo])\n",
    "\n",
    "# 6⃣ Escribir en el archivo CSV\n",
    "with open(cvs_file, mode=\"w\", newline=\"\", encoding=\"utf-8\") as file:\n",
    "    writer = csv.writer(file) \n",
    "    writer.writerow([\"Num_Cta\", \"Cli_codigo\", \"TipoCuenta\", \"Sucursal\", \"FechaApertura\", \"Saldo\"]) \n",
    "    writer.writerows(registros) \n",
    "\n",
    "\n",
    "print(f\"Archivo '{cvs_file}' creado exitosamente.\")\n",
    "print(f\" Total de registros: {len(registros)}\")"
   ]
  }
 ],
 "metadata": {
  "kernelspec": {
   "display_name": "myenv",
   "language": "python",
   "name": "python3"
  },
  "language_info": {
   "codemirror_mode": {
    "name": "ipython",
    "version": 3
   },
   "file_extension": ".py",
   "mimetype": "text/x-python",
   "name": "python",
   "nbconvert_exporter": "python",
   "pygments_lexer": "ipython3",
   "version": "3.13.7"
  }
 },
 "nbformat": 4,
 "nbformat_minor": 5
}
